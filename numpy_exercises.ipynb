{
 "cells": [
  {
   "cell_type": "code",
   "execution_count": 3,
   "id": "93134909",
   "metadata": {},
   "outputs": [],
   "source": [
    "import numpy as np"
   ]
  },
  {
   "cell_type": "code",
   "execution_count": 4,
   "id": "092f98c7",
   "metadata": {},
   "outputs": [],
   "source": [
    "a = np.array([4, 10, 12, 23, -2, -1, 0, 0, 0, -6, 3, -7])"
   ]
  },
  {
   "cell_type": "code",
   "execution_count": 11,
   "id": "db24291f",
   "metadata": {},
   "outputs": [
    {
     "data": {
      "text/plain": [
       "array([-2, -1, -6, -7])"
      ]
     },
     "execution_count": 11,
     "metadata": {},
     "output_type": "execute_result"
    }
   ],
   "source": [
    "#1There are 4 negative numbers \n",
    "\n",
    "a[a<0]"
   ]
  },
  {
   "cell_type": "code",
   "execution_count": 12,
   "id": "2aa617bd",
   "metadata": {},
   "outputs": [
    {
     "data": {
      "text/plain": [
       "array([ 4, 10, 12, 23,  3])"
      ]
     },
     "execution_count": 12,
     "metadata": {},
     "output_type": "execute_result"
    }
   ],
   "source": [
    "#2 There are 5 positive numbers\n",
    "a[a>0]"
   ]
  },
  {
   "cell_type": "code",
   "execution_count": null,
   "id": "7b1e4833",
   "metadata": {},
   "outputs": [],
   "source": [
    "#3 There are 3 even positive numbers "
   ]
  },
  {
   "cell_type": "code",
   "execution_count": 21,
   "id": "9410794f",
   "metadata": {},
   "outputs": [],
   "source": [
    "#4 There would be 8 positive numbers\n",
    "\n",
    "add_three= a+3"
   ]
  },
  {
   "cell_type": "code",
   "execution_count": 6,
   "id": "cf6f84c2",
   "metadata": {},
   "outputs": [
    {
     "data": {
      "text/plain": [
       "array([ 16, 100, 144, 529,   4,   1,   0,   0,   0,  36,   9,  49])"
      ]
     },
     "execution_count": 6,
     "metadata": {},
     "output_type": "execute_result"
    }
   ],
   "source": [
    "# 5\n",
    "np.square(a)"
   ]
  },
  {
   "cell_type": "code",
   "execution_count": 13,
   "id": "869c2e3d",
   "metadata": {},
   "outputs": [],
   "source": [
    "#5\n",
    "b = np.array([ 16, 100, 144, 529,   4,   1,   0,   0,   0,  36,   9,  49])"
   ]
  },
  {
   "cell_type": "code",
   "execution_count": 15,
   "id": "c3e7a2ea",
   "metadata": {},
   "outputs": [
    {
     "data": {
      "text/plain": [
       "144.0243035046516"
      ]
     },
     "execution_count": 15,
     "metadata": {},
     "output_type": "execute_result"
    }
   ],
   "source": [
    "#5 b.std()"
   ]
  },
  {
   "cell_type": "code",
   "execution_count": 16,
   "id": "e7ac6d2b",
   "metadata": {},
   "outputs": [
    {
     "data": {
      "text/plain": [
       "74.0"
      ]
     },
     "execution_count": 16,
     "metadata": {},
     "output_type": "execute_result"
    }
   ],
   "source": [
    "#5 b.mean()"
   ]
  },
  {
   "cell_type": "code",
   "execution_count": 5,
   "id": "db080e07",
   "metadata": {},
   "outputs": [],
   "source": [
    "#6\n",
    "\n",
    "centered= a-a.mean()"
   ]
  },
  {
   "cell_type": "code",
   "execution_count": 6,
   "id": "cd6288ac",
   "metadata": {},
   "outputs": [
    {
     "data": {
      "text/plain": [
       "0.0"
      ]
     },
     "execution_count": 6,
     "metadata": {},
     "output_type": "execute_result"
    }
   ],
   "source": [
    "centered.mean()"
   ]
  },
  {
   "cell_type": "code",
   "execution_count": 7,
   "id": "e4c6d5b7",
   "metadata": {},
   "outputs": [],
   "source": [
    "#7 \n",
    "\n",
    "zscores= a-a.mean()/a.std()"
   ]
  },
  {
   "cell_type": "code",
   "execution_count": null,
   "id": "ee70e65b",
   "metadata": {},
   "outputs": [],
   "source": []
  }
 ],
 "metadata": {
  "kernelspec": {
   "display_name": "Python 3 (ipykernel)",
   "language": "python",
   "name": "python3"
  },
  "language_info": {
   "codemirror_mode": {
    "name": "ipython",
    "version": 3
   },
   "file_extension": ".py",
   "mimetype": "text/x-python",
   "name": "python",
   "nbconvert_exporter": "python",
   "pygments_lexer": "ipython3",
   "version": "3.9.7"
  }
 },
 "nbformat": 4,
 "nbformat_minor": 5
}
