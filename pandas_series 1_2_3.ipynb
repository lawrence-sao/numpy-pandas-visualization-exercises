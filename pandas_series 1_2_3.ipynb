{
 "cells": [
  {
   "cell_type": "code",
   "execution_count": 1,
   "id": "caab4c38",
   "metadata": {},
   "outputs": [],
   "source": [
    "import numpy as np\n",
    "import pandas as pd\n",
    "\n",
    "import matplotlib.pyplot as plt\n"
   ]
  },
  {
   "cell_type": "code",
   "execution_count": 2,
   "id": "c2af0f8f",
   "metadata": {},
   "outputs": [],
   "source": [
    "fruit_series= pd.Series([\"kiwi\", \"mango\", \"strawberry\", \"pineapple\", \"gala apple\", \"honeycrisp apple\", \"tomato\", \"watermelon\", \"honeydew\", \"kiwi\", \"kiwi\", \"kiwi\", \"mango\", \"blueberry\", \"blackberry\", \"gooseberry\", \"papaya\"])\n"
   ]
  },
  {
   "cell_type": "code",
   "execution_count": null,
   "id": "394dbe0b",
   "metadata": {},
   "outputs": [],
   "source": []
  },
  {
   "cell_type": "code",
   "execution_count": 3,
   "id": "76a519d5",
   "metadata": {},
   "outputs": [
    {
     "data": {
      "text/plain": [
       "count       17\n",
       "unique      13\n",
       "top       kiwi\n",
       "freq         4\n",
       "dtype: object"
      ]
     },
     "execution_count": 3,
     "metadata": {},
     "output_type": "execute_result"
    }
   ],
   "source": [
    "fruit_series.describe() #1 You can use describe there are 17 elements "
   ]
  },
  {
   "cell_type": "code",
   "execution_count": 4,
   "id": "303882c4",
   "metadata": {},
   "outputs": [
    {
     "data": {
      "text/plain": [
       "RangeIndex(start=0, stop=17, step=1)"
      ]
     },
     "execution_count": 4,
     "metadata": {},
     "output_type": "execute_result"
    }
   ],
   "source": [
    "fruit_series.index #2 You can use . index "
   ]
  },
  {
   "cell_type": "code",
   "execution_count": 5,
   "id": "148b71ef",
   "metadata": {},
   "outputs": [
    {
     "data": {
      "text/plain": [
       "array(['kiwi', 'mango', 'strawberry', 'pineapple', 'gala apple',\n",
       "       'honeycrisp apple', 'tomato', 'watermelon', 'honeydew', 'kiwi',\n",
       "       'kiwi', 'kiwi', 'mango', 'blueberry', 'blackberry', 'gooseberry',\n",
       "       'papaya'], dtype=object)"
      ]
     },
     "execution_count": 5,
     "metadata": {},
     "output_type": "execute_result"
    }
   ],
   "source": [
    "fruit_series.values #3 .values"
   ]
  },
  {
   "cell_type": "code",
   "execution_count": 6,
   "id": "b232571b",
   "metadata": {},
   "outputs": [
    {
     "data": {
      "text/plain": [
       "dtype('O')"
      ]
     },
     "execution_count": 6,
     "metadata": {},
     "output_type": "execute_result"
    }
   ],
   "source": [
    "fruit_series.dtype #4 .dtype"
   ]
  },
  {
   "cell_type": "code",
   "execution_count": 7,
   "id": "42d143e5",
   "metadata": {},
   "outputs": [
    {
     "data": {
      "text/plain": [
       "0          kiwi\n",
       "1         mango\n",
       "2    strawberry\n",
       "3     pineapple\n",
       "4    gala apple\n",
       "dtype: object"
      ]
     },
     "execution_count": 7,
     "metadata": {},
     "output_type": "execute_result"
    }
   ],
   "source": [
    "fruit_series.head(5) #5.1 .head"
   ]
  },
  {
   "cell_type": "code",
   "execution_count": 8,
   "id": "8855300c",
   "metadata": {},
   "outputs": [
    {
     "data": {
      "text/plain": [
       "14    blackberry\n",
       "15    gooseberry\n",
       "16        papaya\n",
       "dtype: object"
      ]
     },
     "execution_count": 8,
     "metadata": {},
     "output_type": "execute_result"
    }
   ],
   "source": [
    "fruit_series.tail(3) #5.2 tail"
   ]
  },
  {
   "cell_type": "code",
   "execution_count": 9,
   "id": "5559811c",
   "metadata": {},
   "outputs": [
    {
     "data": {
      "text/plain": [
       "1    mango\n",
       "0     kiwi\n",
       "dtype: object"
      ]
     },
     "execution_count": 9,
     "metadata": {},
     "output_type": "execute_result"
    }
   ],
   "source": [
    "fruit_series.sample(2) #5.3 sample"
   ]
  },
  {
   "cell_type": "code",
   "execution_count": 10,
   "id": "adfa9ed1",
   "metadata": {},
   "outputs": [
    {
     "data": {
      "text/plain": [
       "count       17\n",
       "unique      13\n",
       "top       kiwi\n",
       "freq         4\n",
       "dtype: object"
      ]
     },
     "execution_count": 10,
     "metadata": {},
     "output_type": "execute_result"
    }
   ],
   "source": [
    "fruit_series.describe() #6"
   ]
  },
  {
   "cell_type": "code",
   "execution_count": 11,
   "id": "59f72371",
   "metadata": {},
   "outputs": [
    {
     "data": {
      "text/plain": [
       "<bound method Series.unique of 0                 kiwi\n",
       "1                mango\n",
       "2           strawberry\n",
       "3            pineapple\n",
       "4           gala apple\n",
       "5     honeycrisp apple\n",
       "6               tomato\n",
       "7           watermelon\n",
       "8             honeydew\n",
       "9                 kiwi\n",
       "10                kiwi\n",
       "11                kiwi\n",
       "12               mango\n",
       "13           blueberry\n",
       "14          blackberry\n",
       "15          gooseberry\n",
       "16              papaya\n",
       "dtype: object>"
      ]
     },
     "execution_count": 11,
     "metadata": {},
     "output_type": "execute_result"
    }
   ],
   "source": [
    "fruit_series.unique #7"
   ]
  },
  {
   "cell_type": "code",
   "execution_count": 12,
   "id": "ce2f0a7b",
   "metadata": {},
   "outputs": [
    {
     "data": {
      "text/plain": [
       "count       17\n",
       "unique      13\n",
       "top       kiwi\n",
       "freq         4\n",
       "dtype: object"
      ]
     },
     "execution_count": 12,
     "metadata": {},
     "output_type": "execute_result"
    }
   ],
   "source": [
    " fruit_series.describe()    #8  13 unique strings"
   ]
  },
  {
   "cell_type": "code",
   "execution_count": 13,
   "id": "8a8b9cb2",
   "metadata": {},
   "outputs": [
    {
     "data": {
      "text/plain": [
       "count       17\n",
       "unique      13\n",
       "top       kiwi\n",
       "freq         4\n",
       "dtype: object"
      ]
     },
     "execution_count": 13,
     "metadata": {},
     "output_type": "execute_result"
    }
   ],
   "source": [
    " fruit_series.describe()   #9 kiwi"
   ]
  },
  {
   "cell_type": "code",
   "execution_count": 14,
   "id": "a842a9db",
   "metadata": {},
   "outputs": [
    {
     "data": {
      "text/plain": [
       "<bound method IndexOpsMixin.value_counts of 0                 kiwi\n",
       "1                mango\n",
       "2           strawberry\n",
       "3            pineapple\n",
       "4           gala apple\n",
       "5     honeycrisp apple\n",
       "6               tomato\n",
       "7           watermelon\n",
       "8             honeydew\n",
       "9                 kiwi\n",
       "10                kiwi\n",
       "11                kiwi\n",
       "12               mango\n",
       "13           blueberry\n",
       "14          blackberry\n",
       "15          gooseberry\n",
       "16              papaya\n",
       "dtype: object>"
      ]
     },
     "execution_count": 14,
     "metadata": {},
     "output_type": "execute_result"
    }
   ],
   "source": [
    "fruit_series.value_counts #10"
   ]
  },
  {
   "cell_type": "code",
   "execution_count": 15,
   "id": "9b372678",
   "metadata": {},
   "outputs": [
    {
     "ename": "SyntaxError",
     "evalue": "invalid syntax (3207580131.py, line 1)",
     "output_type": "error",
     "traceback": [
      "\u001b[0;36m  Input \u001b[0;32mIn [15]\u001b[0;36m\u001b[0m\n\u001b[0;31m    ****PART 2****\u001b[0m\n\u001b[0m    ^\u001b[0m\n\u001b[0;31mSyntaxError\u001b[0m\u001b[0;31m:\u001b[0m invalid syntax\n"
     ]
    }
   ],
   "source": [
    "****PART 2****"
   ]
  },
  {
   "cell_type": "code",
   "execution_count": null,
   "id": "4688b76a",
   "metadata": {},
   "outputs": [],
   "source": [
    "#Capitalize all the string values in fruits.\n",
    "\n",
    "fruit_series.str.upper()"
   ]
  },
  {
   "cell_type": "code",
   "execution_count": null,
   "id": "4000d37c",
   "metadata": {},
   "outputs": [],
   "source": [
    "#Count the letter \"a\" in all the string values (use string vectorization).\n",
    "\n",
    "fruit_series.str.count(\"a\")"
   ]
  },
  {
   "cell_type": "code",
   "execution_count": null,
   "id": "f6d13267",
   "metadata": {},
   "outputs": [],
   "source": [
    "# 3 Output the number of vowels in each and every string value."
   ]
  },
  {
   "cell_type": "code",
   "execution_count": null,
   "id": "f7cd3025",
   "metadata": {},
   "outputs": [],
   "source": [
    "fruit_series.str.lower().str.count(r'[aeiou]')"
   ]
  },
  {
   "cell_type": "code",
   "execution_count": null,
   "id": "efaf3d68",
   "metadata": {},
   "outputs": [],
   "source": [
    "#4 Write the code to get the longest string value from fruits. **\"honeycrisp apple\"**"
   ]
  },
  {
   "cell_type": "code",
   "execution_count": null,
   "id": "76375d5f",
   "metadata": {},
   "outputs": [],
   "source": [
    "fruit_series.str.len().max()"
   ]
  },
  {
   "cell_type": "code",
   "execution_count": null,
   "id": "14eeeff0",
   "metadata": {},
   "outputs": [],
   "source": [
    "#5 Write the code to get the string values with 5 or more letters in the name."
   ]
  },
  {
   "cell_type": "code",
   "execution_count": null,
   "id": "b18490ec",
   "metadata": {},
   "outputs": [],
   "source": [
    "fruit_series.str.\n"
   ]
  },
  {
   "cell_type": "code",
   "execution_count": null,
   "id": "9297ed40",
   "metadata": {},
   "outputs": [],
   "source": [
    "# 6 Use the .apply method with a lambda function to find the fruit(s) containing the letter \"o\" two or more times."
   ]
  },
  {
   "cell_type": "code",
   "execution_count": 17,
   "id": "14d3e911",
   "metadata": {},
   "outputs": [
    {
     "data": {
      "text/plain": [
       "1                mango\n",
       "2           strawberry\n",
       "3            pineapple\n",
       "4           gala apple\n",
       "5     honeycrisp apple\n",
       "6               tomato\n",
       "7           watermelon\n",
       "8             honeydew\n",
       "12               mango\n",
       "13           blueberry\n",
       "14          blackberry\n",
       "15          gooseberry\n",
       "16              papaya\n",
       "dtype: object"
      ]
     },
     "execution_count": 17,
     "metadata": {},
     "output_type": "execute_result"
    }
   ],
   "source": [
    "fruit_series[fruit_series.str.len()>=5]"
   ]
  },
  {
   "cell_type": "code",
   "execution_count": 18,
   "id": "97c190a0",
   "metadata": {},
   "outputs": [
    {
     "data": {
      "text/plain": [
       "6         tomato\n",
       "15    gooseberry\n",
       "dtype: object"
      ]
     },
     "execution_count": 18,
     "metadata": {},
     "output_type": "execute_result"
    }
   ],
   "source": [
    "#7\n",
    "fruit_series[fruit_series.str.count(\"o\")>=2]"
   ]
  },
  {
   "cell_type": "code",
   "execution_count": null,
   "id": "a42d586a",
   "metadata": {},
   "outputs": [],
   "source": []
  }
 ],
 "metadata": {
  "kernelspec": {
   "display_name": "Python 3 (ipykernel)",
   "language": "python",
   "name": "python3"
  },
  "language_info": {
   "codemirror_mode": {
    "name": "ipython",
    "version": 3
   },
   "file_extension": ".py",
   "mimetype": "text/x-python",
   "name": "python",
   "nbconvert_exporter": "python",
   "pygments_lexer": "ipython3",
   "version": "3.9.7"
  }
 },
 "nbformat": 4,
 "nbformat_minor": 5
}
